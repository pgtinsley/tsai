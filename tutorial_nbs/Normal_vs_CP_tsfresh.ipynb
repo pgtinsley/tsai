{
 "cells": [
  {
   "cell_type": "code",
   "execution_count": 1,
   "id": "57b9c0e6-ab8a-45c0-bdcd-538b53cde3a7",
   "metadata": {},
   "outputs": [],
   "source": [
    "# !conda install tqdm -y"
   ]
  },
  {
   "cell_type": "code",
   "execution_count": 2,
   "id": "505eef77-f728-44e8-9822-3841ae2432db",
   "metadata": {},
   "outputs": [],
   "source": [
    "# !pip install seaborn"
   ]
  },
  {
   "cell_type": "code",
   "execution_count": 3,
   "id": "314e34e0-c8ea-419c-b4e5-dd2abbb65197",
   "metadata": {},
   "outputs": [],
   "source": [
    "import os\n",
    "import ast\n",
    "import glob\n",
    "import math\n",
    "import numpy as np\n",
    "import pandas as pd\n",
    "import seaborn as sns\n",
    "from tqdm import tqdm\n",
    "import matplotlib.pyplot as plt\n",
    "from sklearn.model_selection import train_test_split"
   ]
  },
  {
   "cell_type": "code",
   "execution_count": 4,
   "id": "424ab1a3-654f-4372-af5e-07abe95266ad",
   "metadata": {},
   "outputs": [],
   "source": [
    "# !pip install sktime"
   ]
  },
  {
   "cell_type": "code",
   "execution_count": 5,
   "id": "dd76a91f-e9ba-40e5-b5e5-dc247c660b02",
   "metadata": {},
   "outputs": [],
   "source": [
    "from sklearn.cluster import KMeans\n",
    "from sklearn.metrics import confusion_matrix, classification_report\n",
    "from sklearn.pipeline import Pipeline, make_pipeline\n",
    "from sklearn.ensemble import RandomForestClassifier, IsolationForest, GradientBoostingClassifier\n",
    "from sklearn.linear_model import RidgeClassifierCV\n",
    "from sklearn.decomposition import PCA\n",
    "from sklearn.preprocessing import StandardScaler, LabelEncoder\n",
    "from sklearn.model_selection import train_test_split\n",
    "from sktime.transformations.panel.rocket import MiniRocketMultivariate"
   ]
  },
  {
   "cell_type": "code",
   "execution_count": 6,
   "id": "5154f173-f9d6-4a34-a0be-6e58102ef043",
   "metadata": {},
   "outputs": [],
   "source": [
    "from tsai.all import *"
   ]
  },
  {
   "cell_type": "code",
   "execution_count": 7,
   "id": "bc020b31-ace7-4c98-870e-2e0d318d7e88",
   "metadata": {},
   "outputs": [
    {
     "name": "stdout",
     "output_type": "stream",
     "text": [
      "os              : Linux-5.14.0-503.11.1.el9_5.x86_64-x86_64-with-glibc2.34\n",
      "python          : 3.12.8\n",
      "tsai            : 0.4.1\n",
      "fastai          : 2.8.2\n",
      "fastcore        : 1.8.2\n",
      "torch           : 2.5.1+cu124\n",
      "device          : 1 gpu (['NVIDIA L40S'])\n",
      "cpu cores       : 64\n",
      "threads per cpu : 1\n",
      "RAM             : 1007.15 GB\n",
      "GPU memory      : [44.99, 44.99, 44.99, 44.99] GB\n"
     ]
    }
   ],
   "source": [
    "my_setup()"
   ]
  },
  {
   "cell_type": "code",
   "execution_count": 137,
   "id": "d2701c4d-75bf-4c1a-853b-20414d32478f",
   "metadata": {},
   "outputs": [],
   "source": [
    "from tsfresh import extract_features, select_features\n",
    "from tsfresh.utilities.dataframe_functions import impute"
   ]
  },
  {
   "cell_type": "code",
   "execution_count": null,
   "id": "396b8ce1-f921-41bf-928d-a523b51bffa5",
   "metadata": {},
   "outputs": [],
   "source": []
  },
  {
   "cell_type": "code",
   "execution_count": 121,
   "id": "64287b0d-b204-4ae7-9b0c-ef2e5375189e",
   "metadata": {},
   "outputs": [],
   "source": [
    "def extend_df(\n",
    "        df: pd.DataFrame, \n",
    "        target_size: int\n",
    "    ) -> pd.DataFrame:\n",
    "\n",
    "    current_size = len(df)\n",
    "    last_row = df.iloc[[-1]]\n",
    "    repeats = target_size - current_size\n",
    "    extension = pd.concat([last_row] * repeats, ignore_index=True)\n",
    "    extension.index = range(current_size, target_size)\n",
    "    \n",
    "    return pd.concat([df, extension])"
   ]
  },
  {
   "cell_type": "code",
   "execution_count": null,
   "id": "06ba610c-249e-4030-9a38-8ba23b4ef653",
   "metadata": {},
   "outputs": [],
   "source": []
  },
  {
   "cell_type": "code",
   "execution_count": 9,
   "id": "963fb0ea-859d-46f1-b2bb-2e1e67a7cb66",
   "metadata": {},
   "outputs": [],
   "source": [
    "df_meta = pd.read_csv('../../sensor_fusion/df_meta_withJSON_withTimes_goodDetections_min2700.csv', index_col=0)"
   ]
  },
  {
   "cell_type": "code",
   "execution_count": 10,
   "id": "4b982eb5-49a4-4d87-9253-c8e592307133",
   "metadata": {},
   "outputs": [
    {
     "data": {
      "text/html": [
       "<div>\n",
       "<style scoped>\n",
       "    .dataframe tbody tr th:only-of-type {\n",
       "        vertical-align: middle;\n",
       "    }\n",
       "\n",
       "    .dataframe tbody tr th {\n",
       "        vertical-align: top;\n",
       "    }\n",
       "\n",
       "    .dataframe thead th {\n",
       "        text-align: right;\n",
       "    }\n",
       "</style>\n",
       "<table border=\"1\" class=\"dataframe\">\n",
       "  <thead>\n",
       "    <tr style=\"text-align: right;\">\n",
       "      <th></th>\n",
       "      <th>study_id</th>\n",
       "      <th>premature</th>\n",
       "      <th>gestational_age_weeks</th>\n",
       "      <th>post_menstrual_age_days</th>\n",
       "      <th>adjusted_age_weeks</th>\n",
       "      <th>chronological_age_weeks</th>\n",
       "      <th>over3m</th>\n",
       "      <th>sex</th>\n",
       "      <th>diagnosis</th>\n",
       "      <th>y_true</th>\n",
       "      <th>...</th>\n",
       "      <th>dirname_json</th>\n",
       "      <th>start_time1</th>\n",
       "      <th>stop_time1</th>\n",
       "      <th>start_time2</th>\n",
       "      <th>stop_time2</th>\n",
       "      <th>num_frames_mkv</th>\n",
       "      <th>num_frames_json</th>\n",
       "      <th>num_frames_diff</th>\n",
       "      <th>num_scaled_snippets</th>\n",
       "      <th>fnames_scaled_snippets</th>\n",
       "    </tr>\n",
       "  </thead>\n",
       "  <tbody>\n",
       "    <tr>\n",
       "      <th>0</th>\n",
       "      <td>592</td>\n",
       "      <td>0</td>\n",
       "      <td>38</td>\n",
       "      <td>294.0</td>\n",
       "      <td>40</td>\n",
       "      <td>4</td>\n",
       "      <td>0</td>\n",
       "      <td>1</td>\n",
       "      <td>Normal</td>\n",
       "      <td>0</td>\n",
       "      <td>...</td>\n",
       "      <td>../../sensor_fusion/pred_results_AE5K/592-aafcb787-M-28-2010221627</td>\n",
       "      <td>2700</td>\n",
       "      <td>5400</td>\n",
       "      <td>-1</td>\n",
       "      <td>-1</td>\n",
       "      <td>7196</td>\n",
       "      <td>7197</td>\n",
       "      <td>1</td>\n",
       "      <td>2</td>\n",
       "      <td>['592-aafcb787-M-28-2010221627_df_scaled_snippet_idx0.csv', '592-aafcb787-M-28-2010221627_df_scaled_snippet_idx1.csv']</td>\n",
       "    </tr>\n",
       "    <tr>\n",
       "      <th>1</th>\n",
       "      <td>1838</td>\n",
       "      <td>0</td>\n",
       "      <td>40</td>\n",
       "      <td>330.0</td>\n",
       "      <td>47</td>\n",
       "      <td>7</td>\n",
       "      <td>0</td>\n",
       "      <td>1</td>\n",
       "      <td>Normal</td>\n",
       "      <td>0</td>\n",
       "      <td>...</td>\n",
       "      <td>../../sensor_fusion/pred_results_AE5K/1838-1976fc8e-M-44-2010271018</td>\n",
       "      <td>3450</td>\n",
       "      <td>6150</td>\n",
       "      <td>-1</td>\n",
       "      <td>-1</td>\n",
       "      <td>7202</td>\n",
       "      <td>7203</td>\n",
       "      <td>1</td>\n",
       "      <td>2</td>\n",
       "      <td>['1838-1976fc8e-M-44-2010271018_df_scaled_snippet_idx0.csv', '1838-1976fc8e-M-44-2010271018_df_scaled_snippet_idx1.csv']</td>\n",
       "    </tr>\n",
       "    <tr>\n",
       "      <th>2</th>\n",
       "      <td>8015</td>\n",
       "      <td>0</td>\n",
       "      <td>39</td>\n",
       "      <td>314.0</td>\n",
       "      <td>43</td>\n",
       "      <td>5</td>\n",
       "      <td>0</td>\n",
       "      <td>1</td>\n",
       "      <td>Normal</td>\n",
       "      <td>0</td>\n",
       "      <td>...</td>\n",
       "      <td>../../sensor_fusion/pred_results_AE5K/8015-d6a22f17-M-39-2010291126</td>\n",
       "      <td>1500</td>\n",
       "      <td>4200</td>\n",
       "      <td>-1</td>\n",
       "      <td>-1</td>\n",
       "      <td>7196</td>\n",
       "      <td>7197</td>\n",
       "      <td>1</td>\n",
       "      <td>2</td>\n",
       "      <td>['8015-d6a22f17-M-39-2010291126_df_scaled_snippet_idx0.csv', '8015-d6a22f17-M-39-2010291126_df_scaled_snippet_idx1.csv']</td>\n",
       "    </tr>\n",
       "    <tr>\n",
       "      <th>3</th>\n",
       "      <td>8026</td>\n",
       "      <td>0</td>\n",
       "      <td>40</td>\n",
       "      <td>488.0</td>\n",
       "      <td>69</td>\n",
       "      <td>29</td>\n",
       "      <td>1</td>\n",
       "      <td>1</td>\n",
       "      <td>Normal</td>\n",
       "      <td>0</td>\n",
       "      <td>...</td>\n",
       "      <td>../../sensor_fusion/pred_results_AE5K/8026-0e213ab6-M-207-2010301654</td>\n",
       "      <td>960</td>\n",
       "      <td>3660</td>\n",
       "      <td>-1</td>\n",
       "      <td>-1</td>\n",
       "      <td>7196</td>\n",
       "      <td>7197</td>\n",
       "      <td>1</td>\n",
       "      <td>2</td>\n",
       "      <td>['8026-0e213ab6-M-207-2010301654_df_scaled_snippet_idx0.csv', '8026-0e213ab6-M-207-2010301654_df_scaled_snippet_idx1.csv']</td>\n",
       "    </tr>\n",
       "    <tr>\n",
       "      <th>4</th>\n",
       "      <td>24034</td>\n",
       "      <td>0</td>\n",
       "      <td>37</td>\n",
       "      <td>339.0</td>\n",
       "      <td>45</td>\n",
       "      <td>11</td>\n",
       "      <td>0</td>\n",
       "      <td>1</td>\n",
       "      <td>Normal</td>\n",
       "      <td>0</td>\n",
       "      <td>...</td>\n",
       "      <td>../../sensor_fusion/pred_results_AE5K/24034-15d9bab8-M-76-2011051205_M</td>\n",
       "      <td>3690</td>\n",
       "      <td>6390</td>\n",
       "      <td>-1</td>\n",
       "      <td>-1</td>\n",
       "      <td>7196</td>\n",
       "      <td>7197</td>\n",
       "      <td>1</td>\n",
       "      <td>2</td>\n",
       "      <td>['24034-15d9bab8-M-76-2011051205_M_df_scaled_snippet_idx0.csv', '24034-15d9bab8-M-76-2011051205_M_df_scaled_snippet_idx1.csv']</td>\n",
       "    </tr>\n",
       "  </tbody>\n",
       "</table>\n",
       "<p>5 rows × 28 columns</p>\n",
       "</div>"
      ],
      "text/plain": [
       "  study_id  premature  gestational_age_weeks  post_menstrual_age_days  \\\n",
       "0      592          0                     38                    294.0   \n",
       "1     1838          0                     40                    330.0   \n",
       "2     8015          0                     39                    314.0   \n",
       "3     8026          0                     40                    488.0   \n",
       "4    24034          0                     37                    339.0   \n",
       "\n",
       "   adjusted_age_weeks  chronological_age_weeks  over3m  sex diagnosis  y_true  \\\n",
       "0                  40                        4       0    1    Normal       0   \n",
       "1                  47                        7       0    1    Normal       0   \n",
       "2                  43                        5       0    1    Normal       0   \n",
       "3                  69                       29       1    1    Normal       0   \n",
       "4                  45                       11       0    1    Normal       0   \n",
       "\n",
       "   ...  \\\n",
       "0  ...   \n",
       "1  ...   \n",
       "2  ...   \n",
       "3  ...   \n",
       "4  ...   \n",
       "\n",
       "                                                             dirname_json  \\\n",
       "0      ../../sensor_fusion/pred_results_AE5K/592-aafcb787-M-28-2010221627   \n",
       "1     ../../sensor_fusion/pred_results_AE5K/1838-1976fc8e-M-44-2010271018   \n",
       "2     ../../sensor_fusion/pred_results_AE5K/8015-d6a22f17-M-39-2010291126   \n",
       "3    ../../sensor_fusion/pred_results_AE5K/8026-0e213ab6-M-207-2010301654   \n",
       "4  ../../sensor_fusion/pred_results_AE5K/24034-15d9bab8-M-76-2011051205_M   \n",
       "\n",
       "   start_time1  stop_time1  start_time2  stop_time2  num_frames_mkv  \\\n",
       "0         2700        5400           -1          -1            7196   \n",
       "1         3450        6150           -1          -1            7202   \n",
       "2         1500        4200           -1          -1            7196   \n",
       "3          960        3660           -1          -1            7196   \n",
       "4         3690        6390           -1          -1            7196   \n",
       "\n",
       "   num_frames_json num_frames_diff num_scaled_snippets  \\\n",
       "0             7197               1                   2   \n",
       "1             7203               1                   2   \n",
       "2             7197               1                   2   \n",
       "3             7197               1                   2   \n",
       "4             7197               1                   2   \n",
       "\n",
       "                                                                                                           fnames_scaled_snippets  \n",
       "0          ['592-aafcb787-M-28-2010221627_df_scaled_snippet_idx0.csv', '592-aafcb787-M-28-2010221627_df_scaled_snippet_idx1.csv']  \n",
       "1        ['1838-1976fc8e-M-44-2010271018_df_scaled_snippet_idx0.csv', '1838-1976fc8e-M-44-2010271018_df_scaled_snippet_idx1.csv']  \n",
       "2        ['8015-d6a22f17-M-39-2010291126_df_scaled_snippet_idx0.csv', '8015-d6a22f17-M-39-2010291126_df_scaled_snippet_idx1.csv']  \n",
       "3      ['8026-0e213ab6-M-207-2010301654_df_scaled_snippet_idx0.csv', '8026-0e213ab6-M-207-2010301654_df_scaled_snippet_idx1.csv']  \n",
       "4  ['24034-15d9bab8-M-76-2011051205_M_df_scaled_snippet_idx0.csv', '24034-15d9bab8-M-76-2011051205_M_df_scaled_snippet_idx1.csv']  \n",
       "\n",
       "[5 rows x 28 columns]"
      ]
     },
     "execution_count": 10,
     "metadata": {},
     "output_type": "execute_result"
    }
   ],
   "source": [
    "df_meta.head()"
   ]
  },
  {
   "cell_type": "code",
   "execution_count": 11,
   "id": "b1afd5ea-7d2a-48d6-bc76-01ff8ef003a4",
   "metadata": {},
   "outputs": [],
   "source": [
    "# df_meta.shape"
   ]
  },
  {
   "cell_type": "code",
   "execution_count": null,
   "id": "83214514-ce43-45c6-976d-bffcd543c6f8",
   "metadata": {},
   "outputs": [],
   "source": []
  },
  {
   "cell_type": "code",
   "execution_count": 163,
   "id": "9f1cb233-ea33-43e0-8d0f-c89b7b1f59ef",
   "metadata": {},
   "outputs": [],
   "source": [
    "df_meta_Normal = df_meta[df_meta['diagnosis']=='Normal']\n",
    "df_meta_CP     = df_meta[df_meta['diagnosis']=='CP']"
   ]
  },
  {
   "cell_type": "code",
   "execution_count": 164,
   "id": "33d479bc-1df6-4280-8ce9-6956fd652021",
   "metadata": {},
   "outputs": [],
   "source": [
    "# df_meta_Normal.shape, df_meta_CP.shape"
   ]
  },
  {
   "cell_type": "code",
   "execution_count": null,
   "id": "3b89548c-cad9-4e0f-a201-2c4477fcdeeb",
   "metadata": {},
   "outputs": [],
   "source": []
  },
  {
   "cell_type": "code",
   "execution_count": 165,
   "id": "37ba5934-b09c-45b8-bb8d-d1befbbe766b",
   "metadata": {},
   "outputs": [],
   "source": [
    "df_meta_CP_train, df_meta_CP_test = train_test_split(\n",
    "    df_meta_CP, test_size=0.25\n",
    ")"
   ]
  },
  {
   "cell_type": "code",
   "execution_count": 166,
   "id": "46b0b4d6-1972-4ec2-a710-df081b956cbd",
   "metadata": {},
   "outputs": [],
   "source": [
    "num_snippets_CP_train = int(df_meta_CP_train['num_scaled_snippets'].sum())"
   ]
  },
  {
   "cell_type": "code",
   "execution_count": 167,
   "id": "7d7871ab-b543-4e94-b38c-c9f983c497f9",
   "metadata": {},
   "outputs": [],
   "source": [
    "num_snippets_CP_test  = int(df_meta_CP_test['num_scaled_snippets'].sum())"
   ]
  },
  {
   "cell_type": "code",
   "execution_count": 168,
   "id": "c0b3cd5d-4343-420f-bd0e-43c0a0855ca1",
   "metadata": {},
   "outputs": [
    {
     "data": {
      "text/plain": [
       "(67, 20)"
      ]
     },
     "execution_count": 168,
     "metadata": {},
     "output_type": "execute_result"
    }
   ],
   "source": [
    "num_snippets_CP_train, num_snippets_CP_test"
   ]
  },
  {
   "cell_type": "code",
   "execution_count": null,
   "id": "be5eca85-b53b-4ca5-aa32-3a806167d89e",
   "metadata": {},
   "outputs": [],
   "source": []
  },
  {
   "cell_type": "code",
   "execution_count": 169,
   "id": "d774a12e-1e4a-4516-b728-746d4185bf55",
   "metadata": {},
   "outputs": [
    {
     "name": "stderr",
     "output_type": "stream",
     "text": [
      "100%|███████████████████████████████████████████████████████████████████████████████████████████████████████████████████████████| 27/27 [00:03<00:00,  7.37it/s]\n"
     ]
    }
   ],
   "source": [
    "dfs_combined_CP_train = []\n",
    "\n",
    "for i in tqdm( range( len(df_meta_CP_train) ) ):\n",
    "\n",
    "    row = df_meta_CP_train.iloc[i]\n",
    "    \n",
    "    dirname_json = row['dirname_json']\n",
    "    \n",
    "    fnames_scaled_snippets_tmp  = ast.literal_eval( row['fnames_scaled_snippets'] )\n",
    "    fnames_scaled_snippets_full = [ os.path.join( dirname_json, fname ) for fname in fnames_scaled_snippets_tmp ]\n",
    "\n",
    "    for j, fname in enumerate(fnames_scaled_snippets_full[:]):\n",
    "\n",
    "        fname_asterisk = fname.replace('.csv', '_*.csv')\n",
    "        \n",
    "        fnames_dfs = glob.glob( fname_asterisk )\n",
    "        # fnames_dfs = [ fname for fname in glob.glob( fname_asterisk ) if 'pos_3d' in fname ]\n",
    "\n",
    "        dfs = []\n",
    "        for fname_df in fnames_dfs:\n",
    "            df = pd.read_csv(fname_df, index_col=0)\n",
    "            dfs.append(df)\n",
    "\n",
    "        dfs_combined = pd.concat( dfs, axis=1 )\n",
    "    \n",
    "        if len(dfs_combined)==2700:\n",
    "            dfs_combined_CP_train.append( dfs_combined )\n",
    "            \n",
    "        elif (len(dfs_combined) < 2700) & (len(dfs_combined) > 2680):\n",
    "            dfs_combined_extended = extend_df( dfs_combined, 2700 )\n",
    "            dfs_combined_CP_train.append( dfs_combined_extended )"
   ]
  },
  {
   "cell_type": "code",
   "execution_count": 170,
   "id": "a3488658-8a66-4f8c-acc6-af115966e2a1",
   "metadata": {},
   "outputs": [],
   "source": [
    "# len(dfs_combined_CP_train)"
   ]
  },
  {
   "cell_type": "code",
   "execution_count": 171,
   "id": "fd8a4112-5735-4161-83f8-aaca50b8a54d",
   "metadata": {},
   "outputs": [],
   "source": [
    "# df_meta_CP[ df_meta_CP['over3m']==0 ]['num_scaled_snippets'].sum()"
   ]
  },
  {
   "cell_type": "code",
   "execution_count": 172,
   "id": "b58ca2f4-efcb-4572-9aa2-4d1ba3791567",
   "metadata": {},
   "outputs": [],
   "source": [
    "# df_meta_CP[ df_meta_CP['over3m']==1 ]['num_scaled_snippets'].sum()"
   ]
  },
  {
   "cell_type": "code",
   "execution_count": null,
   "id": "9c74f0ff-2464-4bda-9886-ee6f79a0ec52",
   "metadata": {},
   "outputs": [],
   "source": []
  },
  {
   "cell_type": "code",
   "execution_count": 173,
   "id": "1b3a2602-b251-4faa-938f-d6f6a69effa9",
   "metadata": {},
   "outputs": [
    {
     "name": "stderr",
     "output_type": "stream",
     "text": [
      "100%|███████████████████████████████████████████████████████████████████████████████████████████████████████████████████████████| 10/10 [00:01<00:00,  9.12it/s]\n"
     ]
    }
   ],
   "source": [
    "dfs_combined_CP_test = []\n",
    "\n",
    "for i in tqdm( range( len(df_meta_CP_test) ) ):\n",
    "\n",
    "    row = df_meta_CP_test.iloc[i]\n",
    "    \n",
    "    dirname_json = row['dirname_json']\n",
    "\n",
    "    fnames_scaled_snippets_tmp  = ast.literal_eval( row['fnames_scaled_snippets'] )\n",
    "    fnames_scaled_snippets_full = [ os.path.join( dirname_json, fname ) for fname in fnames_scaled_snippets_tmp ]\n",
    "\n",
    "    for j, fname in enumerate(fnames_scaled_snippets_full[:]):\n",
    "\n",
    "        fname_asterisk = fname.replace('.csv', '_*.csv')\n",
    "        \n",
    "        fnames_dfs = glob.glob( fname_asterisk )\n",
    "        # fnames_dfs = [ fname for fname in glob.glob( fname_asterisk ) if 'pos_3d' in fname ]\n",
    "\n",
    "        dfs = []\n",
    "        for fname_df in fnames_dfs:\n",
    "            df = pd.read_csv(fname_df, index_col=0)\n",
    "            dfs.append(df)\n",
    "\n",
    "        dfs_combined = pd.concat( dfs, axis=1 )\n",
    "    \n",
    "        if len(dfs_combined)==2700:\n",
    "            dfs_combined_CP_test.append( dfs_combined )\n",
    "            \n",
    "        elif (len(dfs_combined) < 2700) & (len(dfs_combined) > 2680):\n",
    "            dfs_combined_extended = extend_df( dfs_combined, 2700 )\n",
    "            dfs_combined_CP_test.append( dfs_combined_extended )"
   ]
  },
  {
   "cell_type": "code",
   "execution_count": 174,
   "id": "d901f154-6f21-4b9f-9f92-caa02c368728",
   "metadata": {},
   "outputs": [
    {
     "data": {
      "text/plain": [
       "20"
      ]
     },
     "execution_count": 174,
     "metadata": {},
     "output_type": "execute_result"
    }
   ],
   "source": [
    "len(dfs_combined_CP_test)"
   ]
  },
  {
   "cell_type": "code",
   "execution_count": null,
   "id": "c26191ff-ae6f-4e2f-8256-8aaf2de05ade",
   "metadata": {},
   "outputs": [],
   "source": []
  },
  {
   "cell_type": "code",
   "execution_count": 175,
   "id": "b8590249-57ff-4e21-9921-a135ff66522c",
   "metadata": {},
   "outputs": [],
   "source": [
    "dfs_combined_Normal = []\n",
    "\n",
    "for _, row in df_meta_Normal.sample( \n",
    "        num_snippets_CP_train + num_snippets_CP_test,\n",
    "    ).iterrows():\n",
    "\n",
    "    dirname_json = row['dirname_json']\n",
    "    \n",
    "    fnames_scaled_snippets_tmp  = ast.literal_eval( row['fnames_scaled_snippets'] )\n",
    "    fnames_scaled_snippets_full = [ os.path.join( dirname_json, fname ) for fname in fnames_scaled_snippets_tmp ]\n",
    "\n",
    "    for fname in fnames_scaled_snippets_full[:1]:\n",
    "\n",
    "        fname_asterisk = fname.replace('.csv', '_*.csv')\n",
    "        \n",
    "        fnames_dfs = glob.glob( fname_asterisk )\n",
    "        # fnames_dfs = [ fname for fname in glob.glob( fname_asterisk ) if 'pos_3d' in fname ]\n",
    "\n",
    "        dfs = []\n",
    "        for fname_df in fnames_dfs:\n",
    "            df = pd.read_csv(fname_df, index_col=0)\n",
    "            dfs.append(df)\n",
    "\n",
    "        dfs_combined = pd.concat( dfs, axis=1 )\n",
    "    \n",
    "        if len(dfs_combined)==2700:\n",
    "            dfs_combined_Normal.append( dfs_combined )\n",
    "\n",
    "        elif (len(dfs_combined) < 2700) & (len(dfs_combined) > 2680):\n",
    "            dfs_combined_extended = extend_df( dfs_combined, 2700 )\n",
    "            dfs_combined_Normal.append( dfs_combined_extended )"
   ]
  },
  {
   "cell_type": "code",
   "execution_count": 176,
   "id": "869473d9-d318-4d90-b602-4403800cfa46",
   "metadata": {},
   "outputs": [],
   "source": [
    "dfs_combined_Normal_train = dfs_combined_Normal[:len(dfs_combined_CP_train)]"
   ]
  },
  {
   "cell_type": "code",
   "execution_count": 177,
   "id": "3cb6723a-cd67-4e87-a9dd-e13923474a1c",
   "metadata": {},
   "outputs": [],
   "source": [
    "dfs_combined_Normal_test  = dfs_combined_Normal[len(dfs_combined_CP_train):]"
   ]
  },
  {
   "cell_type": "code",
   "execution_count": 178,
   "id": "aa273c77-9968-4ca4-a2dd-28b01e0ef763",
   "metadata": {},
   "outputs": [],
   "source": [
    "# len(dfs_combined_Normal_train), len(dfs_combined_Normal_test)"
   ]
  },
  {
   "cell_type": "code",
   "execution_count": 179,
   "id": "b2ea77f9-8d8f-4236-b24d-0de6068bd748",
   "metadata": {},
   "outputs": [],
   "source": [
    "dfs_combined_train = dfs_combined_CP_train + dfs_combined_Normal_train"
   ]
  },
  {
   "cell_type": "code",
   "execution_count": 180,
   "id": "5c7e0ca9-9de4-47af-9136-a5f9812a0dda",
   "metadata": {},
   "outputs": [],
   "source": [
    "dfs_combined_test  = dfs_combined_CP_test + dfs_combined_Normal_test"
   ]
  },
  {
   "cell_type": "code",
   "execution_count": 181,
   "id": "74bef3c5-85a0-46fa-b533-947c905d4eae",
   "metadata": {},
   "outputs": [],
   "source": [
    "# len(dfs_combined_train), len(dfs_combined_test)"
   ]
  },
  {
   "cell_type": "code",
   "execution_count": 182,
   "id": "d23d369a-00d6-4362-9fba-92e4562853ee",
   "metadata": {},
   "outputs": [],
   "source": [
    "# dfs_combined_test[0]"
   ]
  },
  {
   "cell_type": "code",
   "execution_count": null,
   "id": "f9e05522-1fea-4cd3-8397-69dfe1103486",
   "metadata": {},
   "outputs": [],
   "source": []
  },
  {
   "cell_type": "code",
   "execution_count": null,
   "id": "4e36fc93-442b-4cf5-82c4-f78d29acbb34",
   "metadata": {},
   "outputs": [],
   "source": []
  },
  {
   "cell_type": "code",
   "execution_count": 184,
   "id": "b650d104-993f-4bb8-8e3b-80af29d62c14",
   "metadata": {},
   "outputs": [],
   "source": [
    "### BREAK HERE ####"
   ]
  },
  {
   "cell_type": "code",
   "execution_count": null,
   "id": "a4c2027f-b13e-4476-acc1-c61b7612eab2",
   "metadata": {},
   "outputs": [],
   "source": []
  },
  {
   "cell_type": "code",
   "execution_count": null,
   "id": "00cc876b-0c41-47a5-94a9-dc45e2da5a9a",
   "metadata": {},
   "outputs": [],
   "source": []
  },
  {
   "cell_type": "code",
   "execution_count": 25,
   "id": "31673751-e715-40e8-a9ed-12d1d774cb87",
   "metadata": {},
   "outputs": [
    {
     "name": "stderr",
     "output_type": "stream",
     "text": [
      "100%|███████████████████████████████████████████████████████████████████████████████████████████████████████████████████████████| 10/10 [00:01<00:00,  7.92it/s]\n"
     ]
    }
   ],
   "source": [
    "dfs_combined_CP_test = []\n",
    "\n",
    "for i in tqdm( range( len(df_meta_CP_test) ) ):\n",
    "\n",
    "    row = df_meta_CP_test.iloc[i]\n",
    "    \n",
    "    dirname_json = row['dirname_json']\n",
    "\n",
    "    fnames_scaled_snippets_tmp  = ast.literal_eval( row['fnames_scaled_snippets'] )\n",
    "    fnames_scaled_snippets_full = [ os.path.join( dirname_json, fname ) for fname in fnames_scaled_snippets_tmp ]\n",
    "\n",
    "    for j, fname in enumerate(fnames_scaled_snippets_full[:]):\n",
    "\n",
    "        fname_asterisk = fname.replace('.csv', '_*.csv')\n",
    "        \n",
    "        fnames_dfs = glob.glob( fname_asterisk )\n",
    "\n",
    "        dfs = []\n",
    "        for fname_df in fnames_dfs:\n",
    "            df = pd.read_csv(fname_df, index_col=0)\n",
    "            dfs.append(df)\n",
    "\n",
    "        dfs_combined = pd.concat( dfs, axis=1 )\n",
    "    \n",
    "        if len(dfs_combined)==2700:\n",
    "            dfs_combined_CP_test.append( dfs_combined )\n",
    "            \n",
    "        elif (len(dfs_combined) < 2700) & (len(dfs_combined) > 2680):\n",
    "            dfs_combined_extended = extend_df( dfs_combined, 2700 )\n",
    "            dfs_combined_CP_test.append( dfs_combined_extended )"
   ]
  },
  {
   "cell_type": "code",
   "execution_count": 26,
   "id": "9cdfb05a-808c-4b4b-b5b4-4bfc424b9279",
   "metadata": {},
   "outputs": [
    {
     "data": {
      "text/plain": [
       "23"
      ]
     },
     "execution_count": 26,
     "metadata": {},
     "output_type": "execute_result"
    }
   ],
   "source": [
    "len(dfs_combined_CP_test)"
   ]
  },
  {
   "cell_type": "code",
   "execution_count": null,
   "id": "cf7bb649-d6cf-4ffd-a0c9-e7fe63e60fb2",
   "metadata": {},
   "outputs": [],
   "source": []
  },
  {
   "cell_type": "code",
   "execution_count": 27,
   "id": "e029cbd9-fc93-464a-848f-f9277bade5a6",
   "metadata": {},
   "outputs": [],
   "source": [
    "dfs_combined_Normal = []\n",
    "\n",
    "for _, row in df_meta_Normal.sample( \n",
    "        num_snippets_CP_train + num_snippets_CP_test,\n",
    "    ).iterrows():\n",
    "\n",
    "    dirname_json = row['dirname_json']\n",
    "    \n",
    "    fnames_scaled_snippets_tmp  = ast.literal_eval( row['fnames_scaled_snippets'] )\n",
    "    fnames_scaled_snippets_full = [ os.path.join( dirname_json, fname ) for fname in fnames_scaled_snippets_tmp ]\n",
    "\n",
    "    for fname in fnames_scaled_snippets_full[:1]:\n",
    "\n",
    "        fname_asterisk = fname.replace('.csv', '_*.csv')\n",
    "        \n",
    "        fnames_dfs = glob.glob( fname_asterisk )\n",
    "\n",
    "        dfs = []\n",
    "        for fname_df in fnames_dfs:\n",
    "            df = pd.read_csv(fname_df, index_col=0)\n",
    "            dfs.append(df)\n",
    "\n",
    "        dfs_combined = pd.concat( dfs, axis=1 )\n",
    "    \n",
    "        if len(dfs_combined)==2700:\n",
    "            dfs_combined_Normal.append( dfs_combined )\n",
    "\n",
    "        elif (len(dfs_combined) < 2700) & (len(dfs_combined) > 2680):\n",
    "            dfs_combined_extended = extend_df( dfs_combined, 2700 )\n",
    "            dfs_combined_Normal.append( dfs_combined_extended )"
   ]
  },
  {
   "cell_type": "code",
   "execution_count": 28,
   "id": "f744e5a5-13c2-456a-bc4c-2fd2540054ec",
   "metadata": {},
   "outputs": [],
   "source": [
    "dfs_combined_Normal_train = dfs_combined_Normal[:len(dfs_combined_CP_train)]"
   ]
  },
  {
   "cell_type": "code",
   "execution_count": 29,
   "id": "7b572d9b-55ce-4432-9011-98edd2afbf4a",
   "metadata": {},
   "outputs": [],
   "source": [
    "dfs_combined_Normal_test  = dfs_combined_Normal[len(dfs_combined_CP_train):]"
   ]
  },
  {
   "cell_type": "code",
   "execution_count": 30,
   "id": "21324cd3-6df3-4a8a-b91e-c114e6fb7978",
   "metadata": {},
   "outputs": [],
   "source": [
    "# len(dfs_combined_Normal_train), len(dfs_combined_Normal_test)"
   ]
  },
  {
   "cell_type": "code",
   "execution_count": 31,
   "id": "94765744-597a-4b9e-8aea-49e16f04b211",
   "metadata": {},
   "outputs": [],
   "source": [
    "dfs_combined_train = dfs_combined_CP_train + dfs_combined_Normal_train"
   ]
  },
  {
   "cell_type": "code",
   "execution_count": 32,
   "id": "d95d833f-8784-4d8a-be51-9578bd34b192",
   "metadata": {},
   "outputs": [],
   "source": [
    "dfs_combined_test  = dfs_combined_CP_test + dfs_combined_Normal_test"
   ]
  },
  {
   "cell_type": "code",
   "execution_count": 33,
   "id": "aeb785a1-5119-4611-b581-a909a41e95c0",
   "metadata": {},
   "outputs": [],
   "source": [
    "# len(dfs_combined_train), len(dfs_combined_test)"
   ]
  },
  {
   "cell_type": "code",
   "execution_count": null,
   "id": "c92dad85-5bf9-4ef0-b27b-857b3f6203b8",
   "metadata": {},
   "outputs": [],
   "source": []
  },
  {
   "cell_type": "code",
   "execution_count": null,
   "id": "9c22a731-4011-496d-90df-08258289a0da",
   "metadata": {},
   "outputs": [],
   "source": []
  },
  {
   "cell_type": "code",
   "execution_count": 34,
   "id": "191be7d8-b42f-4a76-bbf2-8a33e7f3ecf2",
   "metadata": {},
   "outputs": [],
   "source": [
    "### BREAK HERE ####"
   ]
  },
  {
   "cell_type": "code",
   "execution_count": null,
   "id": "f882a624-938f-460b-9eea-e27df0fcf59b",
   "metadata": {},
   "outputs": [],
   "source": []
  },
  {
   "cell_type": "code",
   "execution_count": null,
   "id": "8ebd3f85-539b-45f0-9e36-e535a28b4ad9",
   "metadata": {},
   "outputs": [],
   "source": []
  },
  {
   "cell_type": "code",
   "execution_count": 35,
   "id": "251cdebe-3979-401c-af07-0943b13c4539",
   "metadata": {},
   "outputs": [],
   "source": [
    "X_train = []\n",
    "for dfs_combined in dfs_combined_train:\n",
    "    X_train.append( dfs_combined.values )"
   ]
  },
  {
   "cell_type": "code",
   "execution_count": 36,
   "id": "8aee725e-8347-490f-8a4e-97608d25b4af",
   "metadata": {},
   "outputs": [],
   "source": [
    "y_train = [1] * len(dfs_combined_CP_train) + [0] * len(dfs_combined_Normal_train)"
   ]
  },
  {
   "cell_type": "code",
   "execution_count": 37,
   "id": "5720e1b6-ea25-45a0-9817-79bc82466b3b",
   "metadata": {},
   "outputs": [],
   "source": [
    "y_train_arr = np.asarray(y_train)"
   ]
  },
  {
   "cell_type": "code",
   "execution_count": 38,
   "id": "67b69ffe-d7d9-4359-9e54-bbd39d5ed11c",
   "metadata": {},
   "outputs": [],
   "source": [
    "X_test = []\n",
    "for dfs_combined in dfs_combined_test:\n",
    "    X_test.append( dfs_combined.values )"
   ]
  },
  {
   "cell_type": "code",
   "execution_count": 39,
   "id": "069e1a73-c093-4717-a5af-291fe5960655",
   "metadata": {},
   "outputs": [],
   "source": [
    "y_test = [1] * len(dfs_combined_CP_test) + [0] * len(dfs_combined_Normal_test)"
   ]
  },
  {
   "cell_type": "code",
   "execution_count": 40,
   "id": "95c6a44d-a2d2-438f-83a2-b7450ceca122",
   "metadata": {},
   "outputs": [],
   "source": [
    "y_test_arr = np.asarray(y_test)"
   ]
  },
  {
   "cell_type": "code",
   "execution_count": 41,
   "id": "82fe4df8-3702-40a0-ae33-1eef252fe048",
   "metadata": {},
   "outputs": [],
   "source": [
    "# len(y_train_arr), len(y_test_arr)"
   ]
  },
  {
   "cell_type": "code",
   "execution_count": null,
   "id": "886b60ee-e535-4027-a4cc-d3dca143dc90",
   "metadata": {},
   "outputs": [],
   "source": []
  },
  {
   "cell_type": "code",
   "execution_count": 42,
   "id": "18b8125d-36b4-43aa-a2f2-e46ad2f5aac2",
   "metadata": {},
   "outputs": [],
   "source": [
    "X_train_arr = np.asarray(X_train).transpose( (0,2,1 ) )"
   ]
  },
  {
   "cell_type": "code",
   "execution_count": 43,
   "id": "93d0ea28-4b1a-45f2-8fc7-42eb753c9cd1",
   "metadata": {},
   "outputs": [],
   "source": [
    "X_test_arr  = np.asarray(X_test).transpose( (0,2,1 ) )"
   ]
  },
  {
   "cell_type": "code",
   "execution_count": 44,
   "id": "9cce7d66-d6e1-4956-b6de-3c27da98999e",
   "metadata": {},
   "outputs": [],
   "source": [
    "# X_train_arr.shape, X_test_arr.shape"
   ]
  },
  {
   "cell_type": "code",
   "execution_count": null,
   "id": "ded08979-ef29-4e24-9551-437538838b21",
   "metadata": {},
   "outputs": [],
   "source": []
  },
  {
   "cell_type": "code",
   "execution_count": 45,
   "id": "45912b9c-7888-4579-87bc-4b1e5952b922",
   "metadata": {},
   "outputs": [],
   "source": [
    "lms_using4 = [\n",
    "    'left_wrist','right_wrist','left_ankle','right_ankle'\n",
    "]"
   ]
  },
  {
   "cell_type": "code",
   "execution_count": 46,
   "id": "22d2abf5-ea0e-4fd5-bde9-74bda48d4437",
   "metadata": {},
   "outputs": [],
   "source": [
    "lms_using8 = [\n",
    "    'left_wrist','right_wrist','left_ankle','right_ankle',\n",
    "    'left_shoulder','right_shoulder','left_hip','right_hip'\n",
    "]"
   ]
  },
  {
   "cell_type": "code",
   "execution_count": 47,
   "id": "32f74bf4-7d6a-4271-880c-35cb929dc817",
   "metadata": {},
   "outputs": [],
   "source": [
    "lms_using12 = [\n",
    "    'left_wrist','right_wrist','left_ankle','right_ankle',\n",
    "    'left_shoulder','right_shoulder','left_hip','right_hip',\n",
    "    'left_elbow','right_elbow','left_knee','right_knee'\n",
    "]"
   ]
  },
  {
   "cell_type": "code",
   "execution_count": 48,
   "id": "2d45b15f-52ee-47e0-90ea-afb9601c2dae",
   "metadata": {},
   "outputs": [],
   "source": [
    "#### CHANGE THIS ####\n",
    "lms_using = lms_using4"
   ]
  },
  {
   "cell_type": "code",
   "execution_count": null,
   "id": "54580a3f-c4ff-46d4-9865-6cf343582110",
   "metadata": {},
   "outputs": [],
   "source": []
  },
  {
   "cell_type": "code",
   "execution_count": 49,
   "id": "609cdf4a-40c8-417f-b406-11363cb7f69b",
   "metadata": {},
   "outputs": [],
   "source": [
    "# Decide which columns/features to use"
   ]
  },
  {
   "cell_type": "code",
   "execution_count": 50,
   "id": "aba73d07-a411-452f-8fc4-a7075fb99e89",
   "metadata": {},
   "outputs": [],
   "source": [
    "feature_sets = set( [col.split('__')[0] for col in dfs_combined.columns] )"
   ]
  },
  {
   "cell_type": "code",
   "execution_count": 51,
   "id": "c52a632a-e5f9-49ac-a1bf-d8f18fcf7d00",
   "metadata": {},
   "outputs": [
    {
     "data": {
      "text/plain": [
       "{'lm2dists_centroid_2d',\n",
       " 'lm2dists_centroid_3d',\n",
       " 'lm2dists_framewise_2d',\n",
       " 'lm2dists_framewise_3d',\n",
       " 'lm_pair2dists_2d',\n",
       " 'lm_pair2dists_3d',\n",
       " 'lm_triple2angles',\n",
       " 'polar_coords',\n",
       " 'pos_2d',\n",
       " 'pos_3d'}"
      ]
     },
     "execution_count": 51,
     "metadata": {},
     "output_type": "execute_result"
    }
   ],
   "source": [
    "feature_sets"
   ]
  },
  {
   "cell_type": "code",
   "execution_count": 53,
   "id": "840683b4-3565-4251-8c7b-6e6d557cde8a",
   "metadata": {},
   "outputs": [
    {
     "name": "stdout",
     "output_type": "stream",
     "text": [
      "feature_set=lm_pair2dists_3d\n",
      "feature_set=lm2dists_framewise_3d\n",
      "feature_set=lm_pair2dists_2d\n",
      "feature_set=lm2dists_centroid_2d\n",
      "feature_set=pos_2d\n",
      "feature_set=lm2dists_centroid_3d\n",
      "feature_set=pos_3d\n",
      "feature_set=polar_coords\n",
      "feature_set=lm2dists_framewise_2d\n",
      "feature_set=lm_triple2angles\n"
     ]
    }
   ],
   "source": [
    "feature_set2col_indices = {}\n",
    "for feature_set in feature_sets:\n",
    "    \n",
    "    print(f'feature_set={feature_set}')\n",
    "    \n",
    "    col_indices = []\n",
    "    for i, col in enumerate(dfs_combined.columns):\n",
    "        if feature_set in col:\n",
    "            if feature_set not in ['lm_triple2angles', 'lm_pair2dists_2d', 'lm_pair2dists_3d', 'polar_coords']:\n",
    "                lm = '_'.join( col.split('__')[-1].split('_')[:-1] )\n",
    "                # print(i, feature_set, col, lm)\n",
    "                if lm in lms_using:\n",
    "                    col_indices.append(i)\n",
    "            else:\n",
    "               col_indices.append(i) \n",
    "\n",
    "    feature_set2col_indices[feature_set] = col_indices\n",
    "    # print('***')"
   ]
  },
  {
   "cell_type": "code",
   "execution_count": 54,
   "id": "f8cad1a6-3d99-4fa0-b06a-6ede52db9062",
   "metadata": {},
   "outputs": [
    {
     "data": {
      "text/plain": [
       "{'lm_pair2dists_3d': [60, 61, 62, 63, 64, 65, 66, 67, 68, 69, 70, 71],\n",
       " 'lm2dists_framewise_3d': [36, 37, 38, 39],\n",
       " 'lm_pair2dists_2d': [48, 49, 50, 51, 52, 53, 54, 55, 56, 57, 58, 59],\n",
       " 'lm2dists_centroid_2d': [0, 1, 2, 3],\n",
       " 'pos_2d': [118, 119, 120, 121, 130, 131, 132, 133],\n",
       " 'lm2dists_centroid_3d': [12, 13, 14, 15],\n",
       " 'pos_3d': [146, 147, 148, 149, 150, 151, 164, 165, 166, 167, 168, 169],\n",
       " 'polar_coords': [80,\n",
       "  81,\n",
       "  82,\n",
       "  83,\n",
       "  84,\n",
       "  85,\n",
       "  86,\n",
       "  87,\n",
       "  88,\n",
       "  89,\n",
       "  90,\n",
       "  91,\n",
       "  92,\n",
       "  93,\n",
       "  94,\n",
       "  95,\n",
       "  96,\n",
       "  97,\n",
       "  98,\n",
       "  99,\n",
       "  100,\n",
       "  101,\n",
       "  102,\n",
       "  103,\n",
       "  104,\n",
       "  105,\n",
       "  106,\n",
       "  107,\n",
       "  108,\n",
       "  109],\n",
       " 'lm2dists_framewise_2d': [24, 25, 26, 27],\n",
       " 'lm_triple2angles': [72, 73, 74, 75, 76, 77, 78, 79]}"
      ]
     },
     "execution_count": 54,
     "metadata": {},
     "output_type": "execute_result"
    }
   ],
   "source": [
    "feature_set2col_indices"
   ]
  },
  {
   "cell_type": "code",
   "execution_count": 79,
   "id": "96acd1f9-c453-470c-8452-b8cdb4e59c8f",
   "metadata": {},
   "outputs": [],
   "source": [
    "col_indices = []\n",
    "# for feature_set in feature_set2col_indices:\n",
    "for feature_set in ['lm_pair2dists_3d']:\n",
    "    col_indices_tmp = feature_set2col_indices[feature_set]\n",
    "    for col_idx in col_indices_tmp:\n",
    "        col_indices.append(col_idx)"
   ]
  },
  {
   "cell_type": "code",
   "execution_count": 80,
   "id": "09d3e5dc-6731-4242-9bbf-402f855d0076",
   "metadata": {},
   "outputs": [
    {
     "data": {
      "text/plain": [
       "12"
      ]
     },
     "execution_count": 80,
     "metadata": {},
     "output_type": "execute_result"
    }
   ],
   "source": [
    "len( col_indices )"
   ]
  },
  {
   "cell_type": "code",
   "execution_count": 81,
   "id": "b5d724f7-c5f4-4ff4-8b7a-c186a6892893",
   "metadata": {},
   "outputs": [],
   "source": [
    "skip = 5"
   ]
  },
  {
   "cell_type": "code",
   "execution_count": 82,
   "id": "692feccf-bb89-4046-9eb1-44c0f15e1678",
   "metadata": {},
   "outputs": [],
   "source": [
    "X_train_arr_smaller = X_train_arr[:,col_indices,::skip]\n",
    "# X_train_arr_smaller = X_train_arr[:,:,::skip]\n",
    "# X_train_arr_smaller = X_train_arr[:,col_indices,:]\n",
    "# X_train_arr_smaller = X_train_arr[:,:,:]"
   ]
  },
  {
   "cell_type": "code",
   "execution_count": 83,
   "id": "2e8d34a1-6185-4102-8e3f-cded58ed9cd9",
   "metadata": {},
   "outputs": [],
   "source": [
    "X_test_arr_smaller = X_test_arr[:,col_indices,::skip]\n",
    "# X_test_arr_smaller = X_test_arr[:,:,::skip]\n",
    "# X_test_arr_smaller = X_test_arr[:,col_indices,:]\n",
    "# X_test_arr_smaller = X_test_arr[:,:,:]"
   ]
  },
  {
   "cell_type": "code",
   "execution_count": 84,
   "id": "ebdd1dbe-a5a0-4633-ac57-b0046349bccf",
   "metadata": {},
   "outputs": [
    {
     "data": {
      "text/plain": [
       "((128, 12, 540), (46, 12, 540))"
      ]
     },
     "execution_count": 84,
     "metadata": {},
     "output_type": "execute_result"
    }
   ],
   "source": [
    "X_train_arr_smaller.shape, X_test_arr_smaller.shape"
   ]
  },
  {
   "cell_type": "code",
   "execution_count": null,
   "id": "214ec77a-031b-4d42-ae43-ae0c28f2580a",
   "metadata": {},
   "outputs": [],
   "source": []
  },
  {
   "cell_type": "code",
   "execution_count": null,
   "id": "4501b5b6-3173-4792-a79d-a35498ed5ee6",
   "metadata": {},
   "outputs": [],
   "source": []
  },
  {
   "cell_type": "code",
   "execution_count": 192,
   "id": "9aabe977-5a8c-41c5-a675-a36991721130",
   "metadata": {},
   "outputs": [],
   "source": [
    "X = []\n",
    "for dfs_combined in dfs_combined_train:\n",
    "    X.append(dfs_combined.values)\n",
    "for dfs_combined in dfs_combined_test:\n",
    "    X.append(dfs_combined.values)"
   ]
  },
  {
   "cell_type": "code",
   "execution_count": 193,
   "id": "0258912a-4459-4273-9153-42bb86f9fa09",
   "metadata": {},
   "outputs": [
    {
     "data": {
      "text/plain": [
       "174"
      ]
     },
     "execution_count": 193,
     "metadata": {},
     "output_type": "execute_result"
    }
   ],
   "source": [
    "len(X)"
   ]
  },
  {
   "cell_type": "code",
   "execution_count": 194,
   "id": "dd51b674-c21f-4a50-90c6-2080d18f7873",
   "metadata": {},
   "outputs": [],
   "source": [
    "X_arr = np.asarray(X)"
   ]
  },
  {
   "cell_type": "code",
   "execution_count": 195,
   "id": "94fa5949-a10b-4322-8637-f89f8e7c8a19",
   "metadata": {},
   "outputs": [
    {
     "data": {
      "text/plain": [
       "(174, 2700, 170)"
      ]
     },
     "execution_count": 195,
     "metadata": {},
     "output_type": "execute_result"
    }
   ],
   "source": [
    "X_arr.shape"
   ]
  },
  {
   "cell_type": "code",
   "execution_count": 196,
   "id": "7180b87e-bd26-41d6-8059-c481e1353aba",
   "metadata": {},
   "outputs": [],
   "source": [
    "skip = 5"
   ]
  },
  {
   "cell_type": "code",
   "execution_count": 190,
   "id": "d6d4523b-3bb9-4298-847e-06419c406531",
   "metadata": {},
   "outputs": [],
   "source": [
    "X_arr_smaller = X_arr[:,::skip,:]"
   ]
  },
  {
   "cell_type": "code",
   "execution_count": 191,
   "id": "fd06231e-31a7-45e4-9511-e817a825619d",
   "metadata": {},
   "outputs": [
    {
     "data": {
      "text/plain": [
       "(174, 540, 170)"
      ]
     },
     "execution_count": 191,
     "metadata": {},
     "output_type": "execute_result"
    }
   ],
   "source": [
    "X_arr_smaller.shape"
   ]
  },
  {
   "cell_type": "code",
   "execution_count": 97,
   "id": "142cb136-b35c-478b-8a98-3f3ee6b7c52e",
   "metadata": {},
   "outputs": [],
   "source": [
    "dfs = []\n",
    "for x_arr_smaller in X_arr_smaller:\n",
    "    dfs.append( pd.DataFrame( x_arr_smaller, columns=dfs_combined.columns ) )"
   ]
  },
  {
   "cell_type": "code",
   "execution_count": 127,
   "id": "0f44e85b-2732-481f-b3be-6a4dd68df49b",
   "metadata": {},
   "outputs": [],
   "source": [
    "dfs_combined2 = pd.concat(dfs).reset_index()"
   ]
  },
  {
   "cell_type": "code",
   "execution_count": 128,
   "id": "57fb2669-f5bc-436e-9326-24c8a59914ee",
   "metadata": {},
   "outputs": [],
   "source": [
    "dfs_combined2 = dfs_combined2.rename(columns={'index':'time'})"
   ]
  },
  {
   "cell_type": "code",
   "execution_count": 129,
   "id": "829216d8-e8a3-4f32-b637-5c54a9e1ab46",
   "metadata": {},
   "outputs": [],
   "source": [
    "dfs_combined2['id'] = (dfs_combined2.index / 540).astype(int)"
   ]
  },
  {
   "cell_type": "code",
   "execution_count": 130,
   "id": "f259bbdd-df40-4086-a2d8-9c2db737edcf",
   "metadata": {},
   "outputs": [],
   "source": [
    "dfs_combined2.columns = [col.replace('__','-') for col in dfs_combined2.columns]"
   ]
  },
  {
   "cell_type": "code",
   "execution_count": 131,
   "id": "fc4db0ae-df87-4654-8874-975df7d6f9b0",
   "metadata": {},
   "outputs": [
    {
     "name": "stderr",
     "output_type": "stream",
     "text": [
      "Feature Extraction: 100%|█████████████████████████████████████████████████████████████████████████████████████████████████████| 160/160 [04:56<00:00,  1.85s/it]\n"
     ]
    }
   ],
   "source": [
    "extracted_features = extract_features(dfs_combined2, column_id='id', column_sort='time')"
   ]
  },
  {
   "cell_type": "code",
   "execution_count": 132,
   "id": "dac1dbca-79ef-4790-a3c2-400d5be3e893",
   "metadata": {},
   "outputs": [
    {
     "data": {
      "text/plain": [
       "(174, 133110)"
      ]
     },
     "execution_count": 132,
     "metadata": {},
     "output_type": "execute_result"
    }
   ],
   "source": [
    "extracted_features.shape"
   ]
  },
  {
   "cell_type": "code",
   "execution_count": 134,
   "id": "4fae32ba-583a-4956-b3e6-664e6f360a93",
   "metadata": {},
   "outputs": [],
   "source": [
    "extracted_features.to_csv('./extracted_features.csv')"
   ]
  },
  {
   "cell_type": "code",
   "execution_count": null,
   "id": "0a779c50-8a9b-4167-b790-1cc485b2e3d4",
   "metadata": {},
   "outputs": [],
   "source": []
  },
  {
   "cell_type": "code",
   "execution_count": 138,
   "id": "cfe3ab1d-541a-4a62-8dfd-db68a5e7d141",
   "metadata": {},
   "outputs": [],
   "source": [
    "extracted_features_postImpute = impute(extracted_features)"
   ]
  },
  {
   "cell_type": "code",
   "execution_count": null,
   "id": "faaac45e-69e2-4a4a-8f2f-882cbf312f99",
   "metadata": {},
   "outputs": [],
   "source": [
    "y = "
   ]
  },
  {
   "cell_type": "code",
   "execution_count": null,
   "id": "97eae908-d9fc-431b-b893-7fa1ee9be7ac",
   "metadata": {},
   "outputs": [],
   "source": [
    "features_filtered = select_features(extracted_features, y)"
   ]
  },
  {
   "cell_type": "code",
   "execution_count": null,
   "id": "143b58b8-0d70-4fdd-b073-97c62ed7e0af",
   "metadata": {},
   "outputs": [],
   "source": []
  },
  {
   "cell_type": "code",
   "execution_count": null,
   "id": "5b5a833f-6e07-4541-94d5-25741fafb304",
   "metadata": {},
   "outputs": [],
   "source": []
  },
  {
   "cell_type": "code",
   "execution_count": null,
   "id": "825f8f4b-53c8-496b-a378-458075fb85cb",
   "metadata": {},
   "outputs": [],
   "source": []
  }
 ],
 "metadata": {
  "kernelspec": {
   "display_name": "Python 3 (ipykernel)",
   "language": "python",
   "name": "python3"
  },
  "language_info": {
   "codemirror_mode": {
    "name": "ipython",
    "version": 3
   },
   "file_extension": ".py",
   "mimetype": "text/x-python",
   "name": "python",
   "nbconvert_exporter": "python",
   "pygments_lexer": "ipython3",
   "version": "3.12.8"
  }
 },
 "nbformat": 4,
 "nbformat_minor": 5
}
